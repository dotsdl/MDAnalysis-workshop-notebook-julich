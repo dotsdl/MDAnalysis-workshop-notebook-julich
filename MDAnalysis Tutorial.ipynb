{
 "cells": [
  {
   "cell_type": "markdown",
   "metadata": {},
   "source": [
    "## MDAnalysis Tutorial - CECAM Workshop Jülich\n",
    "\n",
    "* Part 1: David Dotson\n",
    "* break (10:30 ish)\n",
    "* Part 2: Oliver Beckstein\n",
    "* Part 3: David Dotson presents: [MDSynthesis](https://github.com/Becksteinlab/MDSynthesis)\n",
    "\n",
    "[Live notebook link](https://github.com/dotsdl/MDAnalysis-workshop-notebook-julich/blob/master/MDAnalysis%20Tutorial.ipynb): updates (and if not, remind presenter)"
   ]
  },
  {
   "cell_type": "code",
   "execution_count": null,
   "metadata": {
    "collapsed": true
   },
   "outputs": [],
   "source": []
  }
 ],
 "metadata": {
  "kernelspec": {
   "display_name": "Python 2",
   "language": "python",
   "name": "python2"
  },
  "language_info": {
   "codemirror_mode": {
    "name": "ipython",
    "version": 2
   },
   "file_extension": ".py",
   "mimetype": "text/x-python",
   "name": "python",
   "nbconvert_exporter": "python",
   "pygments_lexer": "ipython2",
   "version": "2.7.10"
  }
 },
 "nbformat": 4,
 "nbformat_minor": 0
}
