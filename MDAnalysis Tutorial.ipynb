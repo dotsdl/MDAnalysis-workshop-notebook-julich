{
 "cells": [
  {
   "cell_type": "markdown",
   "metadata": {},
   "source": [
    "## MDAnalysis Tutorial - CECAM Workshop Jülich\n",
    "\n",
    "* Part 1: David Dotson\n",
    "* break (10:30 ish)\n",
    "* Part 2: Oliver Beckstein\n",
    "* Part 3: David Dotson presents: [MDSynthesis](https://github.com/Becksteinlab/MDSynthesis)\n",
    "\n",
    "[Live notebook link](https://github.com/dotsdl/MDAnalysis-workshop-notebook-julich/blob/master/MDAnalysis%20Tutorial.ipynb): updates (and if not, remind presenter)"
   ]
  },
  {
   "cell_type": "markdown",
   "metadata": {
    "collapsed": true
   },
   "source": [
    "Try these:"
   ]
  },
  {
   "cell_type": "code",
   "execution_count": 2,
   "metadata": {
    "collapsed": true
   },
   "outputs": [],
   "source": [
    "import matplotlib.pyplot as plt\n",
    "import MDAnalysis as mda"
   ]
  },
  {
   "cell_type": "markdown",
   "metadata": {},
   "source": [
    "Live notebook is here: https://github.com/dotsdl/MDAnalysis-workshop-notebook-julich/blob/master/MDAnalysis%20Tutorial.ipynb"
   ]
  },
  {
   "cell_type": "code",
   "execution_count": 9,
   "metadata": {
    "collapsed": true
   },
   "outputs": [],
   "source": [
    "top = 'equilibrium/adk4AKE.psf'\n",
    "u = mda.Universe(top)"
   ]
  },
  {
   "cell_type": "code",
   "execution_count": 10,
   "metadata": {
    "collapsed": false
   },
   "outputs": [
    {
     "data": {
      "text/plain": [
       "<Universe with 3341 atoms and 3365 bonds>"
      ]
     },
     "execution_count": 10,
     "metadata": {},
     "output_type": "execute_result"
    }
   ],
   "source": [
    "u"
   ]
  },
  {
   "cell_type": "code",
   "execution_count": 12,
   "metadata": {
    "collapsed": false
   },
   "outputs": [
    {
     "data": {
      "text/plain": [
       "array([   0,    1,    2, ..., 3338, 3339, 3340])"
      ]
     },
     "execution_count": 12,
     "metadata": {},
     "output_type": "execute_result"
    }
   ],
   "source": [
    "u.atoms.indices"
   ]
  },
  {
   "cell_type": "code",
   "execution_count": 13,
   "metadata": {
    "collapsed": false
   },
   "outputs": [
    {
     "data": {
      "text/plain": [
       "array(['N', 'HT1', 'HT2', ..., 'CA', 'HA1', 'HA2'], \n",
       "      dtype='|S4')"
      ]
     },
     "execution_count": 13,
     "metadata": {},
     "output_type": "execute_result"
    }
   ],
   "source": [
    "u.atoms.names"
   ]
  },
  {
   "cell_type": "code",
   "execution_count": 14,
   "metadata": {
    "collapsed": false
   },
   "outputs": [
    {
     "data": {
      "text/plain": [
       "array(['MET', 'MET', 'MET', ..., 'GLY', 'GLY', 'GLY'], \n",
       "      dtype='|S3')"
      ]
     },
     "execution_count": 14,
     "metadata": {},
     "output_type": "execute_result"
    }
   ],
   "source": [
    "u.atoms.resnames"
   ]
  },
  {
   "cell_type": "code",
   "execution_count": 15,
   "metadata": {
    "collapsed": false
   },
   "outputs": [
    {
     "data": {
      "text/plain": [
       "array([  1,   1,   1, ..., 214, 214, 214])"
      ]
     },
     "execution_count": 15,
     "metadata": {},
     "output_type": "execute_result"
    }
   ],
   "source": [
    "u.atoms.resids"
   ]
  },
  {
   "cell_type": "code",
   "execution_count": 16,
   "metadata": {
    "collapsed": false
   },
   "outputs": [
    {
     "data": {
      "text/plain": [
       "array([-0.3 ,  0.33,  0.33, ..., -0.02,  0.09,  0.09])"
      ]
     },
     "execution_count": 16,
     "metadata": {},
     "output_type": "execute_result"
    }
   ],
   "source": [
    "u.atoms.charges"
   ]
  },
  {
   "cell_type": "code",
   "execution_count": 17,
   "metadata": {
    "collapsed": false
   },
   "outputs": [
    {
     "data": {
      "text/plain": [
       "array([ 14.007,   1.008,   1.008, ...,  12.011,   1.008,   1.008])"
      ]
     },
     "execution_count": 17,
     "metadata": {},
     "output_type": "execute_result"
    }
   ],
   "source": [
    "u.atoms.masses"
   ]
  },
  {
   "cell_type": "code",
   "execution_count": 18,
   "metadata": {
    "collapsed": false
   },
   "outputs": [
    {
     "data": {
      "text/plain": [
       "array(['NH3', 'HC', 'HC', ..., 'CT2', 'HB', 'HB'], \n",
       "      dtype='|S4')"
      ]
     },
     "execution_count": 18,
     "metadata": {},
     "output_type": "execute_result"
    }
   ],
   "source": [
    "u.atoms.types"
   ]
  },
  {
   "cell_type": "code",
   "execution_count": 22,
   "metadata": {
    "collapsed": false
   },
   "outputs": [
    {
     "data": {
      "text/plain": [
       "array([  1.008,   1.008,  12.011,   1.008,  12.011,   1.008,   1.008,\n",
       "        12.011,   1.008])"
      ]
     },
     "execution_count": 22,
     "metadata": {},
     "output_type": "execute_result"
    }
   ],
   "source": [
    "u.atoms.masses[2:11]"
   ]
  },
  {
   "cell_type": "code",
   "execution_count": 24,
   "metadata": {
    "collapsed": false
   },
   "outputs": [
    {
     "data": {
      "text/plain": [
       "array([  1.008,   1.008,  12.011,   1.008,  12.011,   1.008,   1.008,\n",
       "        12.011,   1.008])"
      ]
     },
     "execution_count": 24,
     "metadata": {},
     "output_type": "execute_result"
    }
   ],
   "source": [
    "u.atoms[2:11].masses"
   ]
  },
  {
   "cell_type": "code",
   "execution_count": 25,
   "metadata": {
    "collapsed": true
   },
   "outputs": [],
   "source": [
    "ag = u.atoms[[2, 21, 2, -2]]"
   ]
  },
  {
   "cell_type": "code",
   "execution_count": 27,
   "metadata": {
    "collapsed": false
   },
   "outputs": [
    {
     "data": {
      "text/plain": [
       "array([   2,   21,    2, 3339])"
      ]
     },
     "execution_count": 27,
     "metadata": {},
     "output_type": "execute_result"
    }
   ],
   "source": [
    "ag.indices"
   ]
  },
  {
   "cell_type": "code",
   "execution_count": 28,
   "metadata": {
    "collapsed": false
   },
   "outputs": [
    {
     "data": {
      "text/plain": [
       "<AtomGroup with 1114 atoms>"
      ]
     },
     "execution_count": 28,
     "metadata": {},
     "output_type": "execute_result"
    }
   ],
   "source": [
    "u.atoms[::3]"
   ]
  },
  {
   "cell_type": "code",
   "execution_count": 30,
   "metadata": {
    "collapsed": false
   },
   "outputs": [
    {
     "data": {
      "text/plain": [
       "<AtomGroup with 1685 atoms>"
      ]
     },
     "execution_count": 30,
     "metadata": {},
     "output_type": "execute_result"
    }
   ],
   "source": [
    "u.atoms[u.atoms.masses < 10]"
   ]
  },
  {
   "cell_type": "code",
   "execution_count": 33,
   "metadata": {
    "collapsed": false
   },
   "outputs": [
    {
     "data": {
      "text/plain": [
       "array(['HN', 'HA', 'HB1', 'HB2', 'HG1', 'HG2', 'HD1', 'HD2', 'HE', 'HH11',\n",
       "       'HH12', 'HH21', 'HH22', 'HN', 'HA', 'HB1', 'HB2', 'HG1', 'HG2',\n",
       "       'HD1', 'HD2', 'HE', 'HH11', 'HH12', 'HH21', 'HH22', 'HN', 'HA',\n",
       "       'HB1', 'HB2', 'HG1', 'HG2', 'HD1', 'HD2', 'HE', 'HH11', 'HH12',\n",
       "       'HH21', 'HH22', 'HN', 'HA', 'HB1', 'HB2', 'HG1', 'HG2', 'HD1',\n",
       "       'HD2', 'HE', 'HH11', 'HH12', 'HH21', 'HH22', 'HN', 'HA', 'HB1',\n",
       "       'HB2', 'HG1', 'HG2', 'HD1', 'HD2', 'HE', 'HH11', 'HH12', 'HH21',\n",
       "       'HH22', 'HN', 'HA', 'HB1', 'HB2', 'HG1', 'HG2', 'HD1', 'HD2', 'HE',\n",
       "       'HH11', 'HH12', 'HH21', 'HH22', 'HN', 'HA', 'HB1', 'HB2', 'HG1',\n",
       "       'HG2', 'HD1', 'HD2', 'HE', 'HH11', 'HH12', 'HH21', 'HH22', 'HN',\n",
       "       'HA', 'HB1', 'HB2', 'HG1', 'HG2', 'HD1', 'HD2', 'HE', 'HH11',\n",
       "       'HH12', 'HH21', 'HH22', 'HN', 'HA', 'HB1', 'HB2', 'HG1', 'HG2',\n",
       "       'HD1', 'HD2', 'HE', 'HH11', 'HH12', 'HH21', 'HH22', 'HN', 'HA',\n",
       "       'HB1', 'HB2', 'HG1', 'HG2', 'HD1', 'HD2', 'HE', 'HH11', 'HH12',\n",
       "       'HH21', 'HH22', 'HN', 'HA', 'HB1', 'HB2', 'HG1', 'HG2', 'HD1',\n",
       "       'HD2', 'HE', 'HH11', 'HH12', 'HH21', 'HH22', 'HN', 'HA', 'HB1',\n",
       "       'HB2', 'HG1', 'HG2', 'HD1', 'HD2', 'HE', 'HH11', 'HH12', 'HH21',\n",
       "       'HH22', 'HN', 'HA', 'HB1', 'HB2', 'HG1', 'HG2', 'HD1', 'HD2', 'HE',\n",
       "       'HH11', 'HH12', 'HH21', 'HH22'], \n",
       "      dtype='|S4')"
      ]
     },
     "execution_count": 33,
     "metadata": {},
     "output_type": "execute_result"
    }
   ],
   "source": [
    "u.atoms[(u.atoms.masses < 10) & (u.atoms.resnames == 'ARG')].names"
   ]
  },
  {
   "cell_type": "markdown",
   "metadata": {},
   "source": [
    "## Working with individual atoms"
   ]
  },
  {
   "cell_type": "code",
   "execution_count": 34,
   "metadata": {
    "collapsed": true
   },
   "outputs": [],
   "source": [
    "a = u.atoms[0]"
   ]
  },
  {
   "cell_type": "code",
   "execution_count": 38,
   "metadata": {
    "collapsed": false
   },
   "outputs": [
    {
     "data": {
      "text/plain": [
       "'N'"
      ]
     },
     "execution_count": 38,
     "metadata": {},
     "output_type": "execute_result"
    }
   ],
   "source": [
    "a.name"
   ]
  },
  {
   "cell_type": "markdown",
   "metadata": {},
   "source": [
    "### Challenge: count the number of glycine residues in the protein."
   ]
  },
  {
   "cell_type": "code",
   "execution_count": 41,
   "metadata": {
    "collapsed": false
   },
   "outputs": [],
   "source": [
    "r = u.atoms[u.atoms.resnames == 'GLY'].resids"
   ]
  },
  {
   "cell_type": "code",
   "execution_count": 42,
   "metadata": {
    "collapsed": false
   },
   "outputs": [
    {
     "data": {
      "text/plain": [
       "array([  7,   7,   7,   7,   7,   7,   7,  10,  10,  10,  10,  10,  10,\n",
       "        10,  12,  12,  12,  12,  12,  12,  12,  14,  14,  14,  14,  14,\n",
       "        14,  14,  25,  25,  25,  25,  25,  25,  25,  32,  32,  32,  32,\n",
       "        32,  32,  32,  42,  42,  42,  42,  42,  42,  42,  46,  46,  46,\n",
       "        46,  46,  46,  46,  56,  56,  56,  56,  56,  56,  56,  80,  80,\n",
       "        80,  80,  80,  80,  80,  85,  85,  85,  85,  85,  85,  85, 100,\n",
       "       100, 100, 100, 100, 100, 100, 122, 122, 122, 122, 122, 122, 122,\n",
       "       130, 130, 130, 130, 130, 130, 130, 144, 144, 144, 144, 144, 144,\n",
       "       144, 150, 150, 150, 150, 150, 150, 150, 180, 180, 180, 180, 180,\n",
       "       180, 180, 189, 189, 189, 189, 189, 189, 189, 198, 198, 198, 198,\n",
       "       198, 198, 198, 214, 214, 214, 214, 214, 214, 214, 214])"
      ]
     },
     "execution_count": 42,
     "metadata": {},
     "output_type": "execute_result"
    }
   ],
   "source": [
    "r"
   ]
  },
  {
   "cell_type": "code",
   "execution_count": 43,
   "metadata": {
    "collapsed": true
   },
   "outputs": [],
   "source": [
    "import numpy as np"
   ]
  },
  {
   "cell_type": "code",
   "execution_count": 46,
   "metadata": {
    "collapsed": false
   },
   "outputs": [
    {
     "data": {
      "text/plain": [
       "array([  7,  10,  12,  14,  25,  32,  42,  46,  56,  80,  85, 100, 122,\n",
       "       130, 144, 150, 180, 189, 198, 214])"
      ]
     },
     "execution_count": 46,
     "metadata": {},
     "output_type": "execute_result"
    }
   ],
   "source": [
    "np.unique(r)"
   ]
  },
  {
   "cell_type": "code",
   "execution_count": 45,
   "metadata": {
    "collapsed": false
   },
   "outputs": [
    {
     "data": {
      "text/plain": [
       "20"
      ]
     },
     "execution_count": 45,
     "metadata": {},
     "output_type": "execute_result"
    }
   ],
   "source": [
    "len(np.unique(r))"
   ]
  },
  {
   "cell_type": "markdown",
   "metadata": {},
   "source": [
    "## ResidueGroups and SegmentGroups"
   ]
  },
  {
   "cell_type": "code",
   "execution_count": 47,
   "metadata": {
    "collapsed": false
   },
   "outputs": [
    {
     "data": {
      "text/plain": [
       "<ResidueGroup [<Residue MET, 1>, <Residue ARG, 2>, <Residue ILE, 3>, <Residue ILE, 4>, <Residue LEU, 5>, <Residue LEU, 6>, <Residue GLY, 7>, <Residue ALA, 8>, <Residue PRO, 9>, <Residue GLY, 10>, <Residue ALA, 11>, <Residue GLY, 12>, <Residue LYS, 13>, <Residue GLY, 14>, <Residue THR, 15>, <Residue GLN, 16>, <Residue ALA, 17>, <Residue GLN, 18>, <Residue PHE, 19>, <Residue ILE, 20>, <Residue MET, 21>, <Residue GLU, 22>, <Residue LYS, 23>, <Residue TYR, 24>, <Residue GLY, 25>, <Residue ILE, 26>, <Residue PRO, 27>, <Residue GLN, 28>, <Residue ILE, 29>, <Residue SER, 30>, <Residue THR, 31>, <Residue GLY, 32>, <Residue ASP, 33>, <Residue MET, 34>, <Residue LEU, 35>, <Residue ARG, 36>, <Residue ALA, 37>, <Residue ALA, 38>, <Residue VAL, 39>, <Residue LYS, 40>, <Residue SER, 41>, <Residue GLY, 42>, <Residue SER, 43>, <Residue GLU, 44>, <Residue LEU, 45>, <Residue GLY, 46>, <Residue LYS, 47>, <Residue GLN, 48>, <Residue ALA, 49>, <Residue LYS, 50>, <Residue ASP, 51>, <Residue ILE, 52>, <Residue MET, 53>, <Residue ASP, 54>, <Residue ALA, 55>, <Residue GLY, 56>, <Residue LYS, 57>, <Residue LEU, 58>, <Residue VAL, 59>, <Residue THR, 60>, <Residue ASP, 61>, <Residue GLU, 62>, <Residue LEU, 63>, <Residue VAL, 64>, <Residue ILE, 65>, <Residue ALA, 66>, <Residue LEU, 67>, <Residue VAL, 68>, <Residue LYS, 69>, <Residue GLU, 70>, <Residue ARG, 71>, <Residue ILE, 72>, <Residue ALA, 73>, <Residue GLN, 74>, <Residue GLU, 75>, <Residue ASP, 76>, <Residue CYS, 77>, <Residue ARG, 78>, <Residue ASN, 79>, <Residue GLY, 80>, <Residue PHE, 81>, <Residue LEU, 82>, <Residue LEU, 83>, <Residue ASP, 84>, <Residue GLY, 85>, <Residue PHE, 86>, <Residue PRO, 87>, <Residue ARG, 88>, <Residue THR, 89>, <Residue ILE, 90>, <Residue PRO, 91>, <Residue GLN, 92>, <Residue ALA, 93>, <Residue ASP, 94>, <Residue ALA, 95>, <Residue MET, 96>, <Residue LYS, 97>, <Residue GLU, 98>, <Residue ALA, 99>, <Residue GLY, 100>, <Residue ILE, 101>, <Residue ASN, 102>, <Residue VAL, 103>, <Residue ASP, 104>, <Residue TYR, 105>, <Residue VAL, 106>, <Residue LEU, 107>, <Residue GLU, 108>, <Residue PHE, 109>, <Residue ASP, 110>, <Residue VAL, 111>, <Residue PRO, 112>, <Residue ASP, 113>, <Residue GLU, 114>, <Residue LEU, 115>, <Residue ILE, 116>, <Residue VAL, 117>, <Residue ASP, 118>, <Residue ARG, 119>, <Residue ILE, 120>, <Residue VAL, 121>, <Residue GLY, 122>, <Residue ARG, 123>, <Residue ARG, 124>, <Residue VAL, 125>, <Residue HSE, 126>, <Residue ALA, 127>, <Residue PRO, 128>, <Residue SER, 129>, <Residue GLY, 130>, <Residue ARG, 131>, <Residue VAL, 132>, <Residue TYR, 133>, <Residue HSE, 134>, <Residue VAL, 135>, <Residue LYS, 136>, <Residue PHE, 137>, <Residue ASN, 138>, <Residue PRO, 139>, <Residue PRO, 140>, <Residue LYS, 141>, <Residue VAL, 142>, <Residue GLU, 143>, <Residue GLY, 144>, <Residue LYS, 145>, <Residue ASP, 146>, <Residue ASP, 147>, <Residue VAL, 148>, <Residue THR, 149>, <Residue GLY, 150>, <Residue GLU, 151>, <Residue GLU, 152>, <Residue LEU, 153>, <Residue THR, 154>, <Residue THR, 155>, <Residue ARG, 156>, <Residue LYS, 157>, <Residue ASP, 158>, <Residue ASP, 159>, <Residue GLN, 160>, <Residue GLU, 161>, <Residue GLU, 162>, <Residue THR, 163>, <Residue VAL, 164>, <Residue ARG, 165>, <Residue LYS, 166>, <Residue ARG, 167>, <Residue LEU, 168>, <Residue VAL, 169>, <Residue GLU, 170>, <Residue TYR, 171>, <Residue HSE, 172>, <Residue GLN, 173>, <Residue MET, 174>, <Residue THR, 175>, <Residue ALA, 176>, <Residue PRO, 177>, <Residue LEU, 178>, <Residue ILE, 179>, <Residue GLY, 180>, <Residue TYR, 181>, <Residue TYR, 182>, <Residue SER, 183>, <Residue LYS, 184>, <Residue GLU, 185>, <Residue ALA, 186>, <Residue GLU, 187>, <Residue ALA, 188>, <Residue GLY, 189>, <Residue ASN, 190>, <Residue THR, 191>, <Residue LYS, 192>, <Residue TYR, 193>, <Residue ALA, 194>, <Residue LYS, 195>, <Residue VAL, 196>, <Residue ASP, 197>, <Residue GLY, 198>, <Residue THR, 199>, <Residue LYS, 200>, <Residue PRO, 201>, <Residue VAL, 202>, <Residue ALA, 203>, <Residue GLU, 204>, <Residue VAL, 205>, <Residue ARG, 206>, <Residue ALA, 207>, <Residue ASP, 208>, <Residue LEU, 209>, <Residue GLU, 210>, <Residue LYS, 211>, <Residue ILE, 212>, <Residue LEU, 213>, <Residue GLY, 214>]>"
      ]
     },
     "execution_count": 47,
     "metadata": {},
     "output_type": "execute_result"
    }
   ],
   "source": [
    "u.residues"
   ]
  },
  {
   "cell_type": "code",
   "execution_count": 48,
   "metadata": {
    "collapsed": false
   },
   "outputs": [
    {
     "data": {
      "text/plain": [
       "<SegmentGroup [<Segment ADK>]>"
      ]
     },
     "execution_count": 48,
     "metadata": {},
     "output_type": "execute_result"
    }
   ],
   "source": [
    "u.segments"
   ]
  },
  {
   "cell_type": "code",
   "execution_count": 49,
   "metadata": {
    "collapsed": false
   },
   "outputs": [
    {
     "data": {
      "text/plain": [
       "array(['MET', 'ARG', 'ILE', 'ILE', 'LEU', 'LEU', 'GLY', 'ALA', 'PRO',\n",
       "       'GLY', 'ALA', 'GLY', 'LYS', 'GLY', 'THR', 'GLN', 'ALA', 'GLN',\n",
       "       'PHE', 'ILE', 'MET', 'GLU', 'LYS', 'TYR', 'GLY', 'ILE', 'PRO',\n",
       "       'GLN', 'ILE', 'SER', 'THR', 'GLY', 'ASP', 'MET', 'LEU', 'ARG',\n",
       "       'ALA', 'ALA', 'VAL', 'LYS', 'SER', 'GLY', 'SER', 'GLU', 'LEU',\n",
       "       'GLY', 'LYS', 'GLN', 'ALA', 'LYS', 'ASP', 'ILE', 'MET', 'ASP',\n",
       "       'ALA', 'GLY', 'LYS', 'LEU', 'VAL', 'THR', 'ASP', 'GLU', 'LEU',\n",
       "       'VAL', 'ILE', 'ALA', 'LEU', 'VAL', 'LYS', 'GLU', 'ARG', 'ILE',\n",
       "       'ALA', 'GLN', 'GLU', 'ASP', 'CYS', 'ARG', 'ASN', 'GLY', 'PHE',\n",
       "       'LEU', 'LEU', 'ASP', 'GLY', 'PHE', 'PRO', 'ARG', 'THR', 'ILE',\n",
       "       'PRO', 'GLN', 'ALA', 'ASP', 'ALA', 'MET', 'LYS', 'GLU', 'ALA',\n",
       "       'GLY', 'ILE', 'ASN', 'VAL', 'ASP', 'TYR', 'VAL', 'LEU', 'GLU',\n",
       "       'PHE', 'ASP', 'VAL', 'PRO', 'ASP', 'GLU', 'LEU', 'ILE', 'VAL',\n",
       "       'ASP', 'ARG', 'ILE', 'VAL', 'GLY', 'ARG', 'ARG', 'VAL', 'HSE',\n",
       "       'ALA', 'PRO', 'SER', 'GLY', 'ARG', 'VAL', 'TYR', 'HSE', 'VAL',\n",
       "       'LYS', 'PHE', 'ASN', 'PRO', 'PRO', 'LYS', 'VAL', 'GLU', 'GLY',\n",
       "       'LYS', 'ASP', 'ASP', 'VAL', 'THR', 'GLY', 'GLU', 'GLU', 'LEU',\n",
       "       'THR', 'THR', 'ARG', 'LYS', 'ASP', 'ASP', 'GLN', 'GLU', 'GLU',\n",
       "       'THR', 'VAL', 'ARG', 'LYS', 'ARG', 'LEU', 'VAL', 'GLU', 'TYR',\n",
       "       'HSE', 'GLN', 'MET', 'THR', 'ALA', 'PRO', 'LEU', 'ILE', 'GLY',\n",
       "       'TYR', 'TYR', 'SER', 'LYS', 'GLU', 'ALA', 'GLU', 'ALA', 'GLY',\n",
       "       'ASN', 'THR', 'LYS', 'TYR', 'ALA', 'LYS', 'VAL', 'ASP', 'GLY',\n",
       "       'THR', 'LYS', 'PRO', 'VAL', 'ALA', 'GLU', 'VAL', 'ARG', 'ALA',\n",
       "       'ASP', 'LEU', 'GLU', 'LYS', 'ILE', 'LEU', 'GLY'], \n",
       "      dtype='|S3')"
      ]
     },
     "execution_count": 49,
     "metadata": {},
     "output_type": "execute_result"
    }
   ],
   "source": [
    "u.residues.resnames"
   ]
  },
  {
   "cell_type": "code",
   "execution_count": 52,
   "metadata": {
    "collapsed": false
   },
   "outputs": [
    {
     "data": {
      "text/plain": [
       "20"
      ]
     },
     "execution_count": 52,
     "metadata": {},
     "output_type": "execute_result"
    }
   ],
   "source": [
    "u.residues[u.residues.resnames == 'GLY'].n_residues"
   ]
  },
  {
   "cell_type": "code",
   "execution_count": 55,
   "metadata": {
    "collapsed": false
   },
   "outputs": [],
   "source": [
    "barray = u.residues.resnames == 'GLY'"
   ]
  },
  {
   "cell_type": "code",
   "execution_count": 57,
   "metadata": {
    "collapsed": false
   },
   "outputs": [
    {
     "data": {
      "text/plain": [
       "20"
      ]
     },
     "execution_count": 57,
     "metadata": {},
     "output_type": "execute_result"
    }
   ],
   "source": [
    "barray.sum()"
   ]
  },
  {
   "cell_type": "markdown",
   "metadata": {},
   "source": [
    "## Using coordinates"
   ]
  },
  {
   "cell_type": "code",
   "execution_count": 58,
   "metadata": {
    "collapsed": false
   },
   "outputs": [
    {
     "ename": "AttributeError",
     "evalue": "'AtomGroup' object has no attribute 'positions'",
     "output_type": "error",
     "traceback": [
      "\u001b[1;31m---------------------------------------------------------------------------\u001b[0m",
      "\u001b[1;31mAttributeError\u001b[0m                            Traceback (most recent call last)",
      "\u001b[1;32m<ipython-input-58-878f7dd8f697>\u001b[0m in \u001b[0;36m<module>\u001b[1;34m()\u001b[0m\n\u001b[1;32m----> 1\u001b[1;33m \u001b[0mu\u001b[0m\u001b[1;33m.\u001b[0m\u001b[0matoms\u001b[0m\u001b[1;33m.\u001b[0m\u001b[0mpositions\u001b[0m\u001b[1;33m\u001b[0m\u001b[0m\n\u001b[0m",
      "\u001b[1;32m/home/alter/.local/lib/python2.7/site-packages/MDAnalysis/core/AtomGroup.pyc\u001b[0m in \u001b[0;36m__getattr__\u001b[1;34m(self, name)\u001b[0m\n\u001b[0;32m   1041\u001b[0m         \u001b[1;32mexcept\u001b[0m \u001b[0mSelectionError\u001b[0m\u001b[1;33m:\u001b[0m\u001b[1;33m\u001b[0m\u001b[0m\n\u001b[0;32m   1042\u001b[0m             raise AttributeError(\"'{0}' object has no attribute '{1}'\".format(\n\u001b[1;32m-> 1043\u001b[1;33m                     self.__class__.__name__, name))\n\u001b[0m\u001b[0;32m   1044\u001b[0m \u001b[1;33m\u001b[0m\u001b[0m\n\u001b[0;32m   1045\u001b[0m     \u001b[1;32mdef\u001b[0m \u001b[0m_get_named_atom\u001b[0m\u001b[1;33m(\u001b[0m\u001b[0mself\u001b[0m\u001b[1;33m,\u001b[0m \u001b[0mname\u001b[0m\u001b[1;33m)\u001b[0m\u001b[1;33m:\u001b[0m\u001b[1;33m\u001b[0m\u001b[0m\n",
      "\u001b[1;31mAttributeError\u001b[0m: 'AtomGroup' object has no attribute 'positions'"
     ]
    }
   ],
   "source": [
    "u.atoms.positions"
   ]
  },
  {
   "cell_type": "code",
   "execution_count": 60,
   "metadata": {
    "collapsed": true
   },
   "outputs": [],
   "source": [
    "top = 'equilibrium/adk4AKE.psf'"
   ]
  },
  {
   "cell_type": "code",
   "execution_count": 59,
   "metadata": {
    "collapsed": true
   },
   "outputs": [],
   "source": [
    "traj = 'equilibrium/1ake_007-nowater-core-dt240ps.dcd'"
   ]
  },
  {
   "cell_type": "code",
   "execution_count": 61,
   "metadata": {
    "collapsed": true
   },
   "outputs": [],
   "source": [
    "u = mda.Universe(top, traj)"
   ]
  },
  {
   "cell_type": "code",
   "execution_count": 63,
   "metadata": {
    "collapsed": false
   },
   "outputs": [
    {
     "data": {
      "text/plain": [
       "array([[  2.87066364,  10.60445595,   9.75028801],\n",
       "       [  3.10920501,  11.32470894,   9.0389967 ],\n",
       "       [  3.74609542,  10.24300766,  10.17991066],\n",
       "       ..., \n",
       "       [ -7.49935293,  10.89219856,  12.33476448],\n",
       "       [ -6.59658432,  10.83427048,  12.92472839],\n",
       "       [ -8.34826946,  10.59926796,  12.93470669]], dtype=float32)"
      ]
     },
     "execution_count": 63,
     "metadata": {},
     "output_type": "execute_result"
    }
   ],
   "source": [
    "u.atoms.positions"
   ]
  },
  {
   "cell_type": "markdown",
   "metadata": {},
   "source": [
    "### Challenge: calculate the center of geometry of the C$_\\alpha$ atoms"
   ]
  }
 ],
 "metadata": {
  "kernelspec": {
   "display_name": "Python 2",
   "language": "python2",
   "name": "python2"
  },
  "language_info": {
   "codemirror_mode": {
    "name": "ipython",
    "version": 2
   },
   "file_extension": ".py",
   "mimetype": "text/x-python",
   "name": "python",
   "nbconvert_exporter": "python",
   "pygments_lexer": "ipython2",
   "version": "2.7.10"
  }
 },
 "nbformat": 4,
 "nbformat_minor": 0
}
